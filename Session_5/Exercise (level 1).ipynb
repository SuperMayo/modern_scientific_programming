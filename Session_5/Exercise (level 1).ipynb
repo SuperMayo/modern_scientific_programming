{
 "cells": [
  {
   "cell_type": "markdown",
   "metadata": {},
   "source": [
    "# Exercise (level 1)\n",
    "\n",
    "It is advised to read the introduction to numericpython and keep a numpy [cheatsheet](https://s3.amazonaws.com/assets.datacamp.com/blog_assets/Numpy_Python_Cheat_Sheet.pdf) nearby."
   ]
  },
  {
   "cell_type": "markdown",
   "metadata": {},
   "source": [
    "## Exercise 1:\n",
    "\n",
    "Selection from [w3resources](https://www.w3resource.com/python-exercises/numpy/python-numpy-random.php)\n",
    "and [rougier/numpy100](https://github.com/rougier/numpy-100)"
   ]
  },
  {
   "cell_type": "code",
   "execution_count": 2,
   "metadata": {},
   "outputs": [],
   "source": [
    "import numpy as np"
   ]
  },
  {
   "cell_type": "markdown",
   "metadata": {},
   "source": [
    "- Write a NumPy program to generate five random numbers from the normal distribution."
   ]
  },
  {
   "cell_type": "code",
   "execution_count": 7,
   "metadata": {},
   "outputs": [
    {
     "data": {
      "text/plain": [
       "array([ 0.17508925, -0.45013602, -1.18819225,  0.4896363 ,  1.80768395])"
      ]
     },
     "execution_count": 7,
     "metadata": {},
     "output_type": "execute_result"
    }
   ],
   "source": [
    "numpy.random.randn(5)"
   ]
  },
  {
   "cell_type": "markdown",
   "metadata": {},
   "source": [
    "- Write a NumPy program to generate six random integers between 10 and 30."
   ]
  },
  {
   "cell_type": "code",
   "execution_count": 10,
   "metadata": {},
   "outputs": [
    {
     "data": {
      "text/plain": [
       "array([[30, 22, 22],\n",
       "       [13, 21, 28]])"
      ]
     },
     "execution_count": 10,
     "metadata": {},
     "output_type": "execute_result"
    }
   ],
   "source": [
    "numpy.random.randint(10, high=31, size=(2, 3) )"
   ]
  },
  {
   "cell_type": "markdown",
   "metadata": {},
   "source": [
    "- Create a 3x3 matrix with values ranging from 0 to 8"
   ]
  },
  {
   "cell_type": "code",
   "execution_count": 12,
   "metadata": {},
   "outputs": [
    {
     "data": {
      "text/plain": [
       "array([[0, 1, 2],\n",
       "       [3, 4, 5],\n",
       "       [6, 7, 8]])"
      ]
     },
     "execution_count": 12,
     "metadata": {},
     "output_type": "execute_result"
    }
   ],
   "source": [
    "np.arange(0,9).reshape((3,3))"
   ]
  },
  {
   "cell_type": "markdown",
   "metadata": {},
   "source": [
    "- Create 2d array $M$ such of size 3*3 such that $M_{ij} = i\\times j$"
   ]
  },
  {
   "cell_type": "code",
   "execution_count": 16,
   "metadata": {},
   "outputs": [
    {
     "data": {
      "text/plain": [
       "array([[1., 2., 3.],\n",
       "       [2., 4., 6.],\n",
       "       [3., 6., 9.]])"
      ]
     },
     "execution_count": 16,
     "metadata": {},
     "output_type": "execute_result"
    }
   ],
   "source": [
    "M = np.zeros((3,3))\n",
    "for i in range(3):\n",
    "    for j in range(3):\n",
    "        M[i,j] = (i+1)*(j+1)\n",
    "M"
   ]
  },
  {
   "cell_type": "code",
   "execution_count": 19,
   "metadata": {},
   "outputs": [],
   "source": [
    "# with broadcast"
   ]
  },
  {
   "cell_type": "code",
   "execution_count": 25,
   "metadata": {},
   "outputs": [],
   "source": [
    "x = np.arange(3,dtype=np.float)+1\n",
    "x[:,None]*x[None,:]"
   ]
  },
  {
   "cell_type": "code",
   "execution_count": 26,
   "metadata": {},
   "outputs": [
    {
     "data": {
      "text/plain": [
       "array([[1., 2., 3.],\n",
       "       [2., 4., 6.],\n",
       "       [3., 6., 9.]])"
      ]
     },
     "execution_count": 26,
     "metadata": {},
     "output_type": "execute_result"
    }
   ],
   "source": []
  },
  {
   "cell_type": "code",
   "execution_count": 30,
   "metadata": {},
   "outputs": [
    {
     "name": "stdout",
     "output_type": "stream",
     "text": [
      "CPU times: user 448 ms, sys: 0 ns, total: 448 ms\n",
      "Wall time: 456 ms\n"
     ]
    }
   ],
   "source": [
    "%%time\n",
    "M = np.zeros((100,100,100))\n",
    "for i in range(100):\n",
    "    for j in range(100):\n",
    "        for k in range(100):\n",
    "            M[i,j,k] = (i+1)*(j+1)*(k+1)\n",
    "M"
   ]
  },
  {
   "cell_type": "code",
   "execution_count": 27,
   "metadata": {},
   "outputs": [
    {
     "name": "stdout",
     "output_type": "stream",
     "text": [
      "CPU times: user 960 µs, sys: 4.11 ms, total: 5.07 ms\n",
      "Wall time: 11.5 ms\n"
     ]
    }
   ],
   "source": [
    "%%time\n",
    "x = np.arange(100,dtype=np.float)+1\n",
    "P = x[:,None,None]*x[None,:,None]*x[None,None,:]"
   ]
  },
  {
   "cell_type": "code",
   "execution_count": 31,
   "metadata": {},
   "outputs": [
    {
     "data": {
      "text/plain": [
       "0.0"
      ]
     },
     "execution_count": 31,
     "metadata": {},
     "output_type": "execute_result"
    }
   ],
   "source": [
    "abs(M-P).max()"
   ]
  },
  {
   "cell_type": "code",
   "execution_count": 33,
   "metadata": {},
   "outputs": [],
   "source": [
    "import numba"
   ]
  },
  {
   "cell_type": "code",
   "execution_count": 42,
   "metadata": {},
   "outputs": [],
   "source": [
    "@numba.jit\n",
    "def f(N):\n",
    "    M = np.zeros((N,N,N))\n",
    "    for i in range(N):\n",
    "        for j in range(N):\n",
    "            for k in range(N):\n",
    "                M[i,j,k] = (i+1)*(j+1)*(k+1)\n",
    "    return M\n"
   ]
  },
  {
   "cell_type": "code",
   "execution_count": 44,
   "metadata": {},
   "outputs": [
    {
     "name": "stdout",
     "output_type": "stream",
     "text": [
      "CPU times: user 137 µs, sys: 4.09 ms, total: 4.22 ms\n",
      "Wall time: 4.32 ms\n"
     ]
    }
   ],
   "source": [
    "%%time\n",
    "M = f(100)"
   ]
  },
  {
   "cell_type": "markdown",
   "metadata": {},
   "source": [
    "- Create 3 vectors of length 5 and create a matrix where each column is one of the vector."
   ]
  },
  {
   "cell_type": "code",
   "execution_count": 55,
   "metadata": {},
   "outputs": [],
   "source": [
    "vectors = [np.random.randn(5) for i in range(3)]"
   ]
  },
  {
   "cell_type": "code",
   "execution_count": 56,
   "metadata": {},
   "outputs": [
    {
     "data": {
      "text/plain": [
       "[array([-0.45404675, -0.74070995,  1.20926052,  0.57787955, -2.04673641]),\n",
       " array([-0.88158749,  1.76865298,  1.59363059, -2.09440431, -0.90370468]),\n",
       " array([-0.67731682,  1.25913192, -0.64553654, -0.17389547, -0.8267965 ])]"
      ]
     },
     "execution_count": 56,
     "metadata": {},
     "output_type": "execute_result"
    }
   ],
   "source": [
    "vectors"
   ]
  },
  {
   "cell_type": "code",
   "execution_count": 57,
   "metadata": {},
   "outputs": [
    {
     "data": {
      "text/plain": [
       "array([[-0.45404675, -0.88158749, -0.67731682],\n",
       "       [-0.74070995,  1.76865298,  1.25913192],\n",
       "       [ 1.20926052,  1.59363059, -0.64553654],\n",
       "       [ 0.57787955, -2.09440431, -0.17389547],\n",
       "       [-2.04673641, -0.90370468, -0.8267965 ]])"
      ]
     },
     "execution_count": 57,
     "metadata": {},
     "output_type": "execute_result"
    }
   ],
   "source": [
    "np.concatenate([e[:,None] for e in vectors], axis=1)"
   ]
  },
  {
   "cell_type": "code",
   "execution_count": 59,
   "metadata": {},
   "outputs": [
    {
     "data": {
      "text/plain": [
       "array([[-0.45404675, -0.88158749, -0.67731682],\n",
       "       [-0.74070995,  1.76865298,  1.25913192],\n",
       "       [ 1.20926052,  1.59363059, -0.64553654],\n",
       "       [ 0.57787955, -2.09440431, -0.17389547],\n",
       "       [-2.04673641, -0.90370468, -0.8267965 ]])"
      ]
     },
     "execution_count": 59,
     "metadata": {},
     "output_type": "execute_result"
    }
   ],
   "source": [
    "np.column_stack(vectors)"
   ]
  },
  {
   "cell_type": "markdown",
   "metadata": {},
   "source": [
    "- Create 3 vectors of length 5 and create a matrix where each row is one of the vector."
   ]
  },
  {
   "cell_type": "code",
   "execution_count": 60,
   "metadata": {},
   "outputs": [
    {
     "data": {
      "text/plain": [
       "array([[-0.45404675, -0.74070995,  1.20926052,  0.57787955, -2.04673641],\n",
       "       [-0.88158749,  1.76865298,  1.59363059, -2.09440431, -0.90370468],\n",
       "       [-0.67731682,  1.25913192, -0.64553654, -0.17389547, -0.8267965 ]])"
      ]
     },
     "execution_count": 60,
     "metadata": {},
     "output_type": "execute_result"
    }
   ],
   "source": [
    "np.row_stack(vectors)"
   ]
  },
  {
   "cell_type": "code",
   "execution_count": 61,
   "metadata": {},
   "outputs": [
    {
     "data": {
      "text/plain": [
       "array([[-0.45404675, -0.74070995,  1.20926052,  0.57787955, -2.04673641],\n",
       "       [-0.88158749,  1.76865298,  1.59363059, -2.09440431, -0.90370468],\n",
       "       [-0.67731682,  1.25913192, -0.64553654, -0.17389547, -0.8267965 ]])"
      ]
     },
     "execution_count": 61,
     "metadata": {},
     "output_type": "execute_result"
    }
   ],
   "source": [
    "np.concatenate([e[None,:] for e in vectors], axis=0)"
   ]
  },
  {
   "cell_type": "markdown",
   "metadata": {},
   "source": [
    "- Find indices of non-zero elements from `np.array([1,2,0,0,4,0])`. Replace them with -1.0"
   ]
  },
  {
   "cell_type": "code",
   "execution_count": 62,
   "metadata": {},
   "outputs": [],
   "source": [
    "x = np.array([1,2,0,0,4,0])"
   ]
  },
  {
   "cell_type": "code",
   "execution_count": 66,
   "metadata": {},
   "outputs": [
    {
     "data": {
      "text/plain": [
       "(array([0, 1, 4]),)"
      ]
     },
     "execution_count": 66,
     "metadata": {},
     "output_type": "execute_result"
    }
   ],
   "source": [
    "np.where(x)"
   ]
  },
  {
   "cell_type": "code",
   "execution_count": 67,
   "metadata": {},
   "outputs": [
    {
     "data": {
      "text/plain": [
       "array([False, False,  True,  True, False,  True])"
      ]
     },
     "execution_count": 67,
     "metadata": {},
     "output_type": "execute_result"
    }
   ],
   "source": [
    "x==0"
   ]
  },
  {
   "cell_type": "code",
   "execution_count": 69,
   "metadata": {},
   "outputs": [
    {
     "data": {
      "text/plain": [
       "array([2, 3, 5])"
      ]
     },
     "execution_count": 69,
     "metadata": {},
     "output_type": "execute_result"
    }
   ],
   "source": [
    "ind = np.where(x==0)[0]\n",
    "ind"
   ]
  },
  {
   "cell_type": "code",
   "execution_count": 70,
   "metadata": {},
   "outputs": [],
   "source": [
    "x[ind]= -1.0"
   ]
  },
  {
   "cell_type": "code",
   "execution_count": 71,
   "metadata": {},
   "outputs": [
    {
     "data": {
      "text/plain": [
       "array([ 1,  2, -1, -1,  4, -1])"
      ]
     },
     "execution_count": 71,
     "metadata": {},
     "output_type": "execute_result"
    }
   ],
   "source": [
    "x"
   ]
  },
  {
   "cell_type": "code",
   "execution_count": 72,
   "metadata": {},
   "outputs": [
    {
     "data": {
      "text/plain": [
       "array([ 1,  2, -2, -2,  4, -2])"
      ]
     },
     "execution_count": 72,
     "metadata": {},
     "output_type": "execute_result"
    }
   ],
   "source": [
    "x[x==-1] = -2.0\n",
    "x"
   ]
  },
  {
   "cell_type": "code",
   "execution_count": 74,
   "metadata": {},
   "outputs": [],
   "source": [
    "x[~(x>0)] = 0.0"
   ]
  },
  {
   "cell_type": "code",
   "execution_count": 75,
   "metadata": {},
   "outputs": [
    {
     "data": {
      "text/plain": [
       "array([1, 2, 0, 0, 4, 0])"
      ]
     },
     "execution_count": 75,
     "metadata": {},
     "output_type": "execute_result"
    }
   ],
   "source": [
    "x"
   ]
  },
  {
   "cell_type": "markdown",
   "metadata": {},
   "source": [
    "- Write a NumPy program to normalize a 3x3 random matrix. (Define norm $|x|=\\sqrt{\\sum x_i^2}$ and compute $M/|M|$)"
   ]
  },
  {
   "cell_type": "code",
   "execution_count": 76,
   "metadata": {},
   "outputs": [],
   "source": [
    "M = numpy.random.randn(3,3)"
   ]
  },
  {
   "cell_type": "code",
   "execution_count": null,
   "metadata": {},
   "outputs": [],
   "source": [
    "# def norm(x):\n",
    "#     return ..."
   ]
  },
  {
   "cell_type": "code",
   "execution_count": 84,
   "metadata": {},
   "outputs": [],
   "source": [
    "norm = lambda X: np.sqrt( (X**2).sum() )"
   ]
  },
  {
   "cell_type": "code",
   "execution_count": 91,
   "metadata": {},
   "outputs": [
    {
     "data": {
      "text/plain": [
       "array([[-0.03892042,  0.04846884,  0.57387846],\n",
       "       [ 1.24991626, -0.19815342, -0.50825544],\n",
       "       [-1.45735984,  0.39765515, -0.68856411]])"
      ]
     },
     "execution_count": 91,
     "metadata": {},
     "output_type": "execute_result"
    }
   ],
   "source": [
    "M"
   ]
  },
  {
   "cell_type": "code",
   "execution_count": 96,
   "metadata": {},
   "outputs": [
    {
     "data": {
      "text/plain": [
       "2.2246859080532615"
      ]
     },
     "execution_count": 96,
     "metadata": {},
     "output_type": "execute_result"
    }
   ],
   "source": [
    "norm(M)"
   ]
  },
  {
   "cell_type": "code",
   "execution_count": 93,
   "metadata": {},
   "outputs": [
    {
     "data": {
      "text/plain": [
       "array([[-0.0174948 ,  0.02178682,  0.25795932],\n",
       "       [ 0.56183943, -0.08907029, -0.22846166],\n",
       "       [-0.65508566,  0.17874665, -0.30951071]])"
      ]
     },
     "execution_count": 93,
     "metadata": {},
     "output_type": "execute_result"
    }
   ],
   "source": [
    "M/norm(M)"
   ]
  },
  {
   "cell_type": "code",
   "execution_count": 94,
   "metadata": {},
   "outputs": [
    {
     "data": {
      "text/plain": [
       "1.980519524127101"
      ]
     },
     "execution_count": 94,
     "metadata": {},
     "output_type": "execute_result"
    }
   ],
   "source": [
    "numpy.linalg.norm(M, ord=2)"
   ]
  },
  {
   "cell_type": "markdown",
   "metadata": {},
   "source": [
    "- Take a random matrix $A$ of size $N\\times 2$ (N=10) where each line represents a different 2d point. Compute the euclidean distance matrix such that $E_{ij}$ is the distance between point $i$ and point $j$."
   ]
  },
  {
   "cell_type": "code",
   "execution_count": 101,
   "metadata": {},
   "outputs": [],
   "source": [
    "N = 10\n",
    "A = np.random.rand(N,2)\n",
    "C = np.zeros((N,N))\n",
    "for i in range(N):\n",
    "    for j in range(i):\n",
    "        x = A[i,:]\n",
    "        y = A[j,:]\n",
    "        C[i,j] = norm(x-y)\n",
    "        C[j,i] = C[i,j]"
   ]
  },
  {
   "cell_type": "code",
   "execution_count": 102,
   "metadata": {},
   "outputs": [
    {
     "data": {
      "text/plain": [
       "array([[0.        , 0.72313341, 0.2266717 , 0.3025916 , 0.34668171,\n",
       "        0.69812998, 0.46967901, 0.64339911, 0.82163689, 0.25225729],\n",
       "       [0.72313341, 0.        , 0.50104232, 0.4860401 , 0.81769054,\n",
       "        0.19760516, 0.46068104, 0.8552427 , 0.81699094, 0.61413248],\n",
       "       [0.2266717 , 0.50104232, 0.        , 0.12062498, 0.39158336,\n",
       "        0.47346816, 0.2927246 , 0.59540795, 0.71206155, 0.18630846],\n",
       "       [0.3025916 , 0.4860401 , 0.12062498, 0.        , 0.33998497,\n",
       "        0.41183869, 0.17586815, 0.49012031, 0.59244596, 0.12879402],\n",
       "       [0.34668171, 0.81769054, 0.39158336, 0.33998497, 0.        ,\n",
       "        0.70651927, 0.38870168, 0.32345627, 0.54691186, 0.21421106],\n",
       "       [0.69812998, 0.19760516, 0.47346816, 0.41183869, 0.70651927,\n",
       "        0.        , 0.32082151, 0.68640089, 0.62392506, 0.52701604],\n",
       "       [0.46967901, 0.46068104, 0.2927246 , 0.17586815, 0.38870168,\n",
       "        0.32082151, 0.        , 0.4036032 , 0.44254465, 0.23863938],\n",
       "       [0.64339911, 0.8552427 , 0.59540795, 0.49012031, 0.32345627,\n",
       "        0.68640089, 0.4036032 , 0.        , 0.24924032, 0.42096075],\n",
       "       [0.82163689, 0.81699094, 0.71206155, 0.59244596, 0.54691186,\n",
       "        0.62392506, 0.44254465, 0.24924032, 0.        , 0.57337297],\n",
       "       [0.25225729, 0.61413248, 0.18630846, 0.12879402, 0.21421106,\n",
       "        0.52701604, 0.23863938, 0.42096075, 0.57337297, 0.        ]])"
      ]
     },
     "execution_count": 102,
     "metadata": {},
     "output_type": "execute_result"
    }
   ],
   "source": [
    "C"
   ]
  },
  {
   "cell_type": "markdown",
   "metadata": {},
   "source": [
    "- Create A of size $10\\times 3$. Create matrix $B$ with the same column as $A$ reordered by sum of absolute values."
   ]
  },
  {
   "cell_type": "code",
   "execution_count": 133,
   "metadata": {},
   "outputs": [],
   "source": [
    "A = np.random.randn(10,3)"
   ]
  },
  {
   "cell_type": "code",
   "execution_count": 134,
   "metadata": {},
   "outputs": [],
   "source": [
    "L = [ A[:,i].sum() for i in range(3)]"
   ]
  },
  {
   "cell_type": "code",
   "execution_count": 135,
   "metadata": {},
   "outputs": [],
   "source": [
    "I = np.argsort(L)"
   ]
  },
  {
   "cell_type": "code",
   "execution_count": 140,
   "metadata": {},
   "outputs": [
    {
     "data": {
      "text/plain": [
       "array([[ 1.61184462, -0.02635346, -0.29469068],\n",
       "       [ 1.15263408,  1.92181695,  1.75189434],\n",
       "       [ 0.05214527, -0.18967092, -0.79785173],\n",
       "       [-0.76555175, -1.28754006,  0.12939743],\n",
       "       [-1.91112839, -0.43068525,  0.24503046],\n",
       "       [-0.14466326, -1.37495917, -0.1886754 ],\n",
       "       [-1.02765755,  1.39415398,  0.84862519],\n",
       "       [ 0.50579909, -1.54589567, -0.15602946],\n",
       "       [ 0.03568229,  0.29871862,  0.27135354],\n",
       "       [-1.7879893 , -0.37812154,  0.34835953]])"
      ]
     },
     "execution_count": 140,
     "metadata": {},
     "output_type": "execute_result"
    }
   ],
   "source": [
    "np.column_stack( [A[:,i] for i in I] )"
   ]
  },
  {
   "cell_type": "code",
   "execution_count": 145,
   "metadata": {},
   "outputs": [
    {
     "data": {
      "text/plain": [
       "array([[ 1.61184462, -0.02635346, -0.29469068],\n",
       "       [ 1.15263408,  1.92181695,  1.75189434],\n",
       "       [ 0.05214527, -0.18967092, -0.79785173],\n",
       "       [-0.76555175, -1.28754006,  0.12939743],\n",
       "       [-1.91112839, -0.43068525,  0.24503046],\n",
       "       [-0.14466326, -1.37495917, -0.1886754 ],\n",
       "       [-1.02765755,  1.39415398,  0.84862519],\n",
       "       [ 0.50579909, -1.54589567, -0.15602946],\n",
       "       [ 0.03568229,  0.29871862,  0.27135354],\n",
       "       [-1.7879893 , -0.37812154,  0.34835953]])"
      ]
     },
     "execution_count": 145,
     "metadata": {},
     "output_type": "execute_result"
    }
   ],
   "source": [
    "A[:,np.argsort(A.sum(axis=0))]"
   ]
  },
  {
   "cell_type": "markdown",
   "metadata": {},
   "source": [
    "## Exercise 2: simulate AR1\n",
    "\n",
    "Take an AR1 process $x_t = A \\rho x_{t-1} + \\epsilon_t$ with $\\epsilon_t \\sim \\Sigma$ where $\\Sigma$ is a positive definite matrix.\n",
    "\n",
    "- Define 2x2 matrices $A$ and $\\Sigma$, the latter being symmetric positive definite"
   ]
  },
  {
   "cell_type": "code",
   "execution_count": 148,
   "metadata": {},
   "outputs": [],
   "source": [
    "A = np.diag([0.9, 0.8])\n",
    "Σ = np.diag([0.05, 0.025])"
   ]
  },
  {
   "cell_type": "markdown",
   "metadata": {},
   "source": [
    "- Compute asymptotic variance using matrix algebra (there is a recursive formula)\n",
    "\n",
    "$V^N = \\sum_{n=0}^N A^n \\Sigma (A^{\\prime})^n$"
   ]
  },
  {
   "cell_type": "code",
   "execution_count": 154,
   "metadata": {},
   "outputs": [],
   "source": []
  },
  {
   "cell_type": "code",
   "execution_count": 181,
   "metadata": {},
   "outputs": [
    {
     "name": "stdout",
     "output_type": "stream",
     "text": [
      "Finished in 73 iterations\n"
     ]
    },
    {
     "data": {
      "text/plain": [
       "array([[0.26315785, 0.        ],\n",
       "       [0.        , 0.06944444]])"
      ]
     },
     "execution_count": 181,
     "metadata": {},
     "output_type": "execute_result"
    }
   ],
   "source": [
    "K = 1000\n",
    "tol = 1e-8\n",
    "V = np.zeros((2,2))\n",
    "T_n = Σ\n",
    "for n in range(K):\n",
    "    V = V + T_n\n",
    "    T_n = A@T_n@A.T \n",
    "    err = norm(T_n)\n",
    "    if err<tol:\n",
    "        print(f\"Finished in {n} iterations\")\n",
    "        break\n",
    "V"
   ]
  },
  {
   "cell_type": "markdown",
   "metadata": {},
   "source": [
    "- Simulate $N$ draws for $T$ periods and store the result in `sim`."
   ]
  },
  {
   "cell_type": "code",
   "execution_count": 216,
   "metadata": {},
   "outputs": [],
   "source": [
    "N = 10000\n",
    "T = 200"
   ]
  },
  {
   "cell_type": "code",
   "execution_count": 217,
   "metadata": {},
   "outputs": [],
   "source": [
    "sim = np.zeros((T, 2, N))"
   ]
  },
  {
   "cell_type": "code",
   "execution_count": 218,
   "metadata": {},
   "outputs": [],
   "source": [
    "for t in range(T-1):\n",
    "    y0 = sim[t, :,:]\n",
    "    ϵ = np.random.multivariate_normal([0,0], Σ, N).T\n",
    "    y1 = A@y0 + ϵ\n",
    "    sim[t+1,:,:] = y1"
   ]
  },
  {
   "cell_type": "markdown",
   "metadata": {},
   "source": [
    "- Compute ergodic variance (bonus compute std of the variance estimate)"
   ]
  },
  {
   "cell_type": "code",
   "execution_count": 219,
   "metadata": {},
   "outputs": [
    {
     "data": {
      "text/plain": [
       "0.16526992789031952"
      ]
     },
     "execution_count": 219,
     "metadata": {},
     "output_type": "execute_result"
    }
   ],
   "source": [
    "sim[199].var() # incorrect"
   ]
  },
  {
   "cell_type": "markdown",
   "metadata": {},
   "source": [
    "- Plot a few simulations on the same graph"
   ]
  },
  {
   "cell_type": "code",
   "execution_count": 220,
   "metadata": {},
   "outputs": [],
   "source": [
    "from matplotlib import pyplot as plt"
   ]
  },
  {
   "cell_type": "code",
   "execution_count": 221,
   "metadata": {},
   "outputs": [
    {
     "data": {
      "image/png": "[encoded data removed]",
      "text/plain": [
       "<Figure size 432x288 with 2 Axes>"
      ]
     },
     "metadata": {
      "needs_background": "light"
     },
     "output_type": "display_data"
    }
   ],
   "source": [
    "plt.subplot(1,2,1)\n",
    "for n in range(N):\n",
    "    plt.plot( sim[:,0,n], color='C0', alpha=0.05 )\n",
    "plt.ylim(-2,2)\n",
    "plt.grid()\n",
    "plt.subplot(1,2,2)\n",
    "for n in range(N):\n",
    "    plt.plot( sim[:,1,n], color='C0', alpha=0.05 )\n",
    "plt.ylim(-2,2)\n",
    "plt.grid()"
   ]
  },
  {
   "cell_type": "code",
   "execution_count": 222,
   "metadata": {},
   "outputs": [
    {
     "data": {
      "text/plain": [
       "(array([  21.,  196.,  781., 1919., 2803., 2453., 1298.,  439.,   81.,\n",
       "           9.]),\n",
       " array([-1.77909441, -1.40611764, -1.03314087, -0.6601641 , -0.28718733,\n",
       "         0.08578944,  0.45876621,  0.83174298,  1.20471975,  1.57769652,\n",
       "         1.95067329]),\n",
       " <a list of 10 Patch objects>)"
      ]
     },
     "execution_count": 222,
     "metadata": {},
     "output_type": "execute_result"
    },
    {
     "data": {
      "image/png": "[encoded data removed]",
      "text/plain": [
       "<Figure size 432x288 with 1 Axes>"
      ]
     },
     "metadata": {
      "needs_background": "light"
     },
     "output_type": "display_data"
    }
   ],
   "source": [
    "plt.hist(sim[199,0,:])"
   ]
  },
  {
   "cell_type": "markdown",
   "metadata": {},
   "source": [
    "- Plot asymptotic distribution (seaborn)"
   ]
  },
  {
   "cell_type": "code",
   "execution_count": null,
   "metadata": {},
   "outputs": [],
   "source": [
    "seabr"
   ]
  },
  {
   "cell_type": "markdown",
   "metadata": {},
   "source": [
    "- Bonus: write a faster simulation routine."
   ]
  },
  {
   "cell_type": "markdown",
   "metadata": {},
   "source": [
    "## Exercise 3: interpolation\n",
    "\n",
    "We consider the function $f(x) = sinc(\\lambda x) = \\frac{sin(\\lambda x)}{x}$.\n",
    "Let $I=(x_i)_{i=[1,10]}$ be a regularly spaced interval between -2 and +2, containing 10 points. Call $Y=(y_i)=f(x_i)$ the values of $f$ on this interval.\n",
    "Let $T$ be a test set with 1000 regularly spaced points between -2.5 and 2.5. \n",
    "\n",
    "The goal is to compare several ways interpolate function f on $T$.\n",
    "\n",
    "- Define `f`, `I`, `Y`, `T`"
   ]
  },
  {
   "cell_type": "markdown",
   "metadata": {},
   "source": [
    "- Construct a stepwise approximation using numpy indexing"
   ]
  },
  {
   "cell_type": "markdown",
   "metadata": {},
   "source": [
    "- Plot it"
   ]
  },
  {
   "cell_type": "markdown",
   "metadata": {},
   "source": [
    "- Construct a linear approximation using numpy"
   ]
  },
  {
   "cell_type": "markdown",
   "metadata": {},
   "source": [
    "- Use scipy.interpolate to get an approximation"
   ]
  },
  {
   "cell_type": "markdown",
   "metadata": {},
   "source": [
    "- (bonus) Use interpolation.py"
   ]
  },
  {
   "cell_type": "markdown",
   "metadata": {},
   "source": [
    "- Plot result"
   ]
  },
  {
   "cell_type": "markdown",
   "metadata": {},
   "source": [
    "- Increase number of points and test performance of various options"
   ]
  },
  {
   "cell_type": "markdown",
   "metadata": {},
   "source": [
    "- (bonus) optimize hand coded implementations using numba"
   ]
  },
  {
   "cell_type": "markdown",
   "metadata": {},
   "source": [
    "- (bonus^2) same steps in 2d space"
   ]
  }
 ],
 "metadata": {
  "kernelspec": {
   "display_name": "Python 3",
   "language": "python",
   "name": "python3"
  },
  "language_info": {
   "codemirror_mode": {
    "name": "ipython",
    "version": 3
   },
   "file_extension": ".py",
   "mimetype": "text/x-python",
   "name": "python",
   "nbconvert_exporter": "python",
   "pygments_lexer": "ipython3",
   "version": "3.7.1"
  }
 },
 "nbformat": 4,
 "nbformat_minor": 2
}
