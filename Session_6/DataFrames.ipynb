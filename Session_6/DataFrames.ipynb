{
 "cells": [
  {
   "cell_type": "code",
   "execution_count": 67,
   "metadata": {},
   "outputs": [],
   "source": [
    "%matplotlib inline"
   ]
  },
  {
   "cell_type": "markdown",
   "metadata": {},
   "source": [
    "# Data Frames"
   ]
  },
  {
   "cell_type": "markdown",
   "metadata": {},
   "source": [
    "## Introduction"
   ]
  },
  {
   "cell_type": "markdown",
   "metadata": {},
   "source": [
    "What is a DataFrame? a 2-D labeled data structure with columns of potentially different type.\n",
    "\n",
    "![](dataframe.png)\n",
    "\n",
    "This type of data should feel rather familiar to Excel or Stata users. It is also an elementary brick of \"relational databases\" which consist in several related dataframes (aka tables). There is a specialized language (SQL) to query this data bases. It is the defacto standard for database work.\n",
    "\n",
    "![](relational_database.png)"
   ]
  },
  {
   "cell_type": "markdown",
   "metadata": {},
   "source": [
    "### Pandas"
   ]
  },
  {
   "cell_type": "markdown",
   "metadata": {},
   "source": [
    "[pandas](https://pandas.pydata.org/) is a python library providing a dataframe object (and Series which are columns of DataFrames). It was created by Wes McKinsey, and is a very optimized piece of software with many, many options. It features:\n",
    "\n",
    "- handling of missing data\n",
    "- automatic and explicit data alignment\n",
    "- hierarchical labeling\n",
    "- very fast IO\n",
    "\n",
    "pandas implement:\n",
    "- optimized operations (mean, sum, ...) with split/apply/combine semantics\n",
    "- many slicing/indexing options\n",
    "- intuitive merging/joinging of datasets\n",
    "- flexible reshaping and pivoting of data sets\n",
    "\n",
    "What is Pandas scope? intermediate size databases\n",
    "- too small to require to learn sql\n",
    "- in-memory computations\n",
    "\n",
    "Alternatives for other tasks:\n",
    "- xarray: multidimensional arrays with labelled dimensions\n",
    "- dask: pandas-like syntax for out-of-memory operations.\n",
    "\n",
    "Used with Pandas:\n",
    "- odo: data conversion/import\n",
    "- statsmodels: regression and statistics\n",
    "- scikit-learn: machine learning\n",
    "- matplotlib: plots\n",
    "\n",
    "The number of options for a given task can be intimidating. We tend to follow the [minimially sufficient pandas](https://medium.com/dunder-data/minimally-sufficient-pandas-a8e67f2a2428), that is to us a small subset of available features, even if that means longer code.\n",
    "There are tons of tutorials out there, including a 10 min introduction in pandas [doc](https://pandas.pydata.org/pandas-docs/stable/getting_started/10min.html). The handbook \"Python for Data Analysis Book\" is also highly recommended."
   ]
  },
  {
   "cell_type": "markdown",
   "metadata": {},
   "source": [
    "## Short primer"
   ]
  },
  {
   "cell_type": "markdown",
   "metadata": {},
   "source": [
    "### Creation"
   ]
  },
  {
   "cell_type": "markdown",
   "metadata": {},
   "source": [
    "#### By Hand"
   ]
  },
  {
   "cell_type": "code",
   "execution_count": 17,
   "metadata": {},
   "outputs": [],
   "source": [
    "# from array"
   ]
  },
  {
   "cell_type": "code",
   "execution_count": 18,
   "metadata": {},
   "outputs": [],
   "source": [
    "# from dictionary"
   ]
  },
  {
   "cell_type": "code",
   "execution_count": 19,
   "metadata": {},
   "outputs": [],
   "source": [
    "# if columns are not alignes, one needs to use series"
   ]
  },
  {
   "cell_type": "code",
   "execution_count": null,
   "metadata": {},
   "outputs": [],
   "source": [
    "# a data frame can be viewed as a record array, with additional index and columns informations\n",
    "# they can be changed after the dataframe is created"
   ]
  },
  {
   "cell_type": "markdown",
   "metadata": {},
   "source": [
    "#### From file\n",
    "\n",
    "The following file formats map naturally to pandas DataFrames."
   ]
  },
  {
   "cell_type": "code",
   "execution_count": 20,
   "metadata": {},
   "outputs": [],
   "source": [
    "# csv file (check filetype and delimiters: comma-separated values can by separated, by... anything)\n",
    "# read_csv"
   ]
  },
  {
   "cell_type": "code",
   "execution_count": 21,
   "metadata": {},
   "outputs": [],
   "source": [
    "# stata"
   ]
  },
  {
   "cell_type": "code",
   "execution_count": 22,
   "metadata": {},
   "outputs": [],
   "source": [
    "# xls (cf openpyxl)"
   ]
  },
  {
   "cell_type": "markdown",
   "metadata": {},
   "source": [
    "#### From database"
   ]
  },
  {
   "cell_type": "code",
   "execution_count": 23,
   "metadata": {},
   "outputs": [],
   "source": [
    "# from sql (cf sqlalchemy)"
   ]
  },
  {
   "cell_type": "code",
   "execution_count": 24,
   "metadata": {},
   "outputs": [],
   "source": [
    "# from dbnomics (install using pip install dbnomics)\n",
    "\n",
    "# try to import "
   ]
  },
  {
   "cell_type": "code",
   "execution_count": null,
   "metadata": {},
   "outputs": [],
   "source": [
    "# import altair\n",
    "# altair.datasets.list_datasets()"
   ]
  },
  {
   "cell_type": "markdown",
   "metadata": {},
   "source": [
    "### Export"
   ]
  },
  {
   "cell_type": "code",
   "execution_count": 25,
   "metadata": {},
   "outputs": [],
   "source": [
    "# .to_csv"
   ]
  },
  {
   "cell_type": "code",
   "execution_count": 26,
   "metadata": {},
   "outputs": [],
   "source": [
    "# .to_xls"
   ]
  },
  {
   "cell_type": "code",
   "execution_count": 27,
   "metadata": {},
   "outputs": [],
   "source": [
    "# pickle"
   ]
  },
  {
   "cell_type": "markdown",
   "metadata": {},
   "source": [
    "### Basic manipulation"
   ]
  },
  {
   "cell_type": "code",
   "execution_count": 28,
   "metadata": {},
   "outputs": [],
   "source": [
    "# .head\n",
    "# .tail\n",
    "# .describe\n",
    "# .mean\n",
    "# std"
   ]
  },
  {
   "cell_type": "code",
   "execution_count": null,
   "metadata": {},
   "outputs": [],
   "source": []
  },
  {
   "cell_type": "code",
   "execution_count": 30,
   "metadata": {},
   "outputs": [],
   "source": [
    "# groupby:\n",
    "# groupby().fun()\n",
    "# groupby().agg({'col':'fun'})"
   ]
  },
  {
   "cell_type": "code",
   "execution_count": 69,
   "metadata": {},
   "outputs": [],
   "source": []
  },
  {
   "cell_type": "markdown",
   "metadata": {},
   "source": [
    "### Indexing, slicing"
   ]
  },
  {
   "cell_type": "code",
   "execution_count": 1,
   "metadata": {},
   "outputs": [
    {
     "data": {
      "text/html": [
       "<div>\n",
       "<style scoped>\n",
       "    .dataframe tbody tr th:only-of-type {\n",
       "        vertical-align: middle;\n",
       "    }\n",
       "\n",
       "    .dataframe tbody tr th {\n",
       "        vertical-align: top;\n",
       "    }\n",
       "\n",
       "    .dataframe thead th {\n",
       "        text-align: right;\n",
       "    }\n",
       "</style>\n",
       "<table border=\"1\" class=\"dataframe\">\n",
       "  <thead>\n",
       "    <tr style=\"text-align: right;\">\n",
       "      <th></th>\n",
       "      <th>month</th>\n",
       "      <th>nonfarm</th>\n",
       "      <th>private</th>\n",
       "      <th>goods_producing</th>\n",
       "      <th>service_providing</th>\n",
       "      <th>private_service_providing</th>\n",
       "      <th>mining_and_logging</th>\n",
       "      <th>construction</th>\n",
       "      <th>manufacturing</th>\n",
       "      <th>durable_goods</th>\n",
       "      <th>...</th>\n",
       "      <th>transportation_and_warehousing</th>\n",
       "      <th>utilities</th>\n",
       "      <th>information</th>\n",
       "      <th>financial_activities</th>\n",
       "      <th>professional_and_business_services</th>\n",
       "      <th>education_and_health_services</th>\n",
       "      <th>leisure_and_hospitality</th>\n",
       "      <th>other_services</th>\n",
       "      <th>government</th>\n",
       "      <th>nonfarm_change</th>\n",
       "    </tr>\n",
       "  </thead>\n",
       "  <tbody>\n",
       "    <tr>\n",
       "      <th>0</th>\n",
       "      <td>2006-01-01</td>\n",
       "      <td>135450</td>\n",
       "      <td>113603</td>\n",
       "      <td>22467</td>\n",
       "      <td>112983</td>\n",
       "      <td>91136</td>\n",
       "      <td>656</td>\n",
       "      <td>7601</td>\n",
       "      <td>14210</td>\n",
       "      <td>8982</td>\n",
       "      <td>...</td>\n",
       "      <td>4420.0</td>\n",
       "      <td>549.8</td>\n",
       "      <td>3052</td>\n",
       "      <td>8307</td>\n",
       "      <td>17299</td>\n",
       "      <td>17946</td>\n",
       "      <td>12945</td>\n",
       "      <td>5425</td>\n",
       "      <td>21847</td>\n",
       "      <td>282</td>\n",
       "    </tr>\n",
       "    <tr>\n",
       "      <th>1</th>\n",
       "      <td>2006-02-01</td>\n",
       "      <td>135762</td>\n",
       "      <td>113884</td>\n",
       "      <td>22535</td>\n",
       "      <td>113227</td>\n",
       "      <td>91349</td>\n",
       "      <td>662</td>\n",
       "      <td>7664</td>\n",
       "      <td>14209</td>\n",
       "      <td>8986</td>\n",
       "      <td>...</td>\n",
       "      <td>4429.4</td>\n",
       "      <td>550.1</td>\n",
       "      <td>3052</td>\n",
       "      <td>8332</td>\n",
       "      <td>17365</td>\n",
       "      <td>17998</td>\n",
       "      <td>12980</td>\n",
       "      <td>5426</td>\n",
       "      <td>21878</td>\n",
       "      <td>312</td>\n",
       "    </tr>\n",
       "    <tr>\n",
       "      <th>2</th>\n",
       "      <td>2006-03-01</td>\n",
       "      <td>136059</td>\n",
       "      <td>114156</td>\n",
       "      <td>22572</td>\n",
       "      <td>113487</td>\n",
       "      <td>91584</td>\n",
       "      <td>669</td>\n",
       "      <td>7689</td>\n",
       "      <td>14214</td>\n",
       "      <td>9000</td>\n",
       "      <td>...</td>\n",
       "      <td>4429.7</td>\n",
       "      <td>547.5</td>\n",
       "      <td>3055</td>\n",
       "      <td>8348</td>\n",
       "      <td>17438</td>\n",
       "      <td>18045</td>\n",
       "      <td>13034</td>\n",
       "      <td>5425</td>\n",
       "      <td>21903</td>\n",
       "      <td>297</td>\n",
       "    </tr>\n",
       "    <tr>\n",
       "      <th>3</th>\n",
       "      <td>2006-04-01</td>\n",
       "      <td>136227</td>\n",
       "      <td>114308</td>\n",
       "      <td>22631</td>\n",
       "      <td>113596</td>\n",
       "      <td>91677</td>\n",
       "      <td>679</td>\n",
       "      <td>7726</td>\n",
       "      <td>14226</td>\n",
       "      <td>9020</td>\n",
       "      <td>...</td>\n",
       "      <td>4445.4</td>\n",
       "      <td>548.9</td>\n",
       "      <td>3046</td>\n",
       "      <td>8369</td>\n",
       "      <td>17462</td>\n",
       "      <td>18070</td>\n",
       "      <td>13074</td>\n",
       "      <td>5426</td>\n",
       "      <td>21919</td>\n",
       "      <td>168</td>\n",
       "    </tr>\n",
       "    <tr>\n",
       "      <th>4</th>\n",
       "      <td>2006-05-01</td>\n",
       "      <td>136258</td>\n",
       "      <td>114332</td>\n",
       "      <td>22597</td>\n",
       "      <td>113661</td>\n",
       "      <td>91735</td>\n",
       "      <td>681</td>\n",
       "      <td>7713</td>\n",
       "      <td>14203</td>\n",
       "      <td>9017</td>\n",
       "      <td>...</td>\n",
       "      <td>4459.4</td>\n",
       "      <td>548.3</td>\n",
       "      <td>3039</td>\n",
       "      <td>8376</td>\n",
       "      <td>17512</td>\n",
       "      <td>18100</td>\n",
       "      <td>13052</td>\n",
       "      <td>5433</td>\n",
       "      <td>21926</td>\n",
       "      <td>31</td>\n",
       "    </tr>\n",
       "  </tbody>\n",
       "</table>\n",
       "<p>5 rows × 24 columns</p>\n",
       "</div>"
      ],
      "text/plain": [
       "        month  nonfarm  private  goods_producing  service_providing  \\\n",
       "0  2006-01-01   135450   113603            22467             112983   \n",
       "1  2006-02-01   135762   113884            22535             113227   \n",
       "2  2006-03-01   136059   114156            22572             113487   \n",
       "3  2006-04-01   136227   114308            22631             113596   \n",
       "4  2006-05-01   136258   114332            22597             113661   \n",
       "\n",
       "   private_service_providing  mining_and_logging  construction  manufacturing  \\\n",
       "0                      91136                 656          7601          14210   \n",
       "1                      91349                 662          7664          14209   \n",
       "2                      91584                 669          7689          14214   \n",
       "3                      91677                 679          7726          14226   \n",
       "4                      91735                 681          7713          14203   \n",
       "\n",
       "   durable_goods  ...  transportation_and_warehousing  utilities  information  \\\n",
       "0           8982  ...                          4420.0      549.8         3052   \n",
       "1           8986  ...                          4429.4      550.1         3052   \n",
       "2           9000  ...                          4429.7      547.5         3055   \n",
       "3           9020  ...                          4445.4      548.9         3046   \n",
       "4           9017  ...                          4459.4      548.3         3039   \n",
       "\n",
       "   financial_activities  professional_and_business_services  \\\n",
       "0                  8307                               17299   \n",
       "1                  8332                               17365   \n",
       "2                  8348                               17438   \n",
       "3                  8369                               17462   \n",
       "4                  8376                               17512   \n",
       "\n",
       "   education_and_health_services  leisure_and_hospitality  other_services  \\\n",
       "0                          17946                    12945            5425   \n",
       "1                          17998                    12980            5426   \n",
       "2                          18045                    13034            5425   \n",
       "3                          18070                    13074            5426   \n",
       "4                          18100                    13052            5433   \n",
       "\n",
       "   government  nonfarm_change  \n",
       "0       21847             282  \n",
       "1       21878             312  \n",
       "2       21903             297  \n",
       "3       21919             168  \n",
       "4       21926              31  \n",
       "\n",
       "[5 rows x 24 columns]"
      ]
     },
     "execution_count": 1,
     "metadata": {},
     "output_type": "execute_result"
    }
   ],
   "source": [
    "import altair\n",
    "df = altair.datasets.load_dataset('us-employment')\n",
    "df.head(5)"
   ]
  },
  {
   "cell_type": "code",
   "execution_count": 2,
   "metadata": {},
   "outputs": [
    {
     "data": {
      "text/plain": [
       "0    135450\n",
       "1    135762\n",
       "2    136059\n",
       "3    136227\n",
       "Name: nonfarm, dtype: int64"
      ]
     },
     "execution_count": 2,
     "metadata": {},
     "output_type": "execute_result"
    }
   ],
   "source": [
    "# index columns with brackets->resulting object is a Series\n",
    "df['nonfarm'].head(4)"
   ]
  },
  {
   "cell_type": "code",
   "execution_count": 3,
   "metadata": {},
   "outputs": [
    {
     "data": {
      "text/html": [
       "<div>\n",
       "<style scoped>\n",
       "    .dataframe tbody tr th:only-of-type {\n",
       "        vertical-align: middle;\n",
       "    }\n",
       "\n",
       "    .dataframe tbody tr th {\n",
       "        vertical-align: top;\n",
       "    }\n",
       "\n",
       "    .dataframe thead th {\n",
       "        text-align: right;\n",
       "    }\n",
       "</style>\n",
       "<table border=\"1\" class=\"dataframe\">\n",
       "  <thead>\n",
       "    <tr style=\"text-align: right;\">\n",
       "      <th></th>\n",
       "      <th>month</th>\n",
       "      <th>nonfarm</th>\n",
       "    </tr>\n",
       "  </thead>\n",
       "  <tbody>\n",
       "    <tr>\n",
       "      <th>0</th>\n",
       "      <td>2006-01-01</td>\n",
       "      <td>135450</td>\n",
       "    </tr>\n",
       "    <tr>\n",
       "      <th>1</th>\n",
       "      <td>2006-02-01</td>\n",
       "      <td>135762</td>\n",
       "    </tr>\n",
       "    <tr>\n",
       "      <th>2</th>\n",
       "      <td>2006-03-01</td>\n",
       "      <td>136059</td>\n",
       "    </tr>\n",
       "  </tbody>\n",
       "</table>\n",
       "</div>"
      ],
      "text/plain": [
       "        month  nonfarm\n",
       "0  2006-01-01   135450\n",
       "1  2006-02-01   135762\n",
       "2  2006-03-01   136059"
      ]
     },
     "execution_count": 3,
     "metadata": {},
     "output_type": "execute_result"
    }
   ],
   "source": [
    "# index columns with loc: like indexing a 2d array\n",
    "# note that extreme values of intervals are included !\n",
    "df.loc[0:2,['month','nonfarm']]\n"
   ]
  },
  {
   "cell_type": "code",
   "execution_count": 60,
   "metadata": {},
   "outputs": [
    {
     "data": {
      "text/html": [
       "<div>\n",
       "<style scoped>\n",
       "    .dataframe tbody tr th:only-of-type {\n",
       "        vertical-align: middle;\n",
       "    }\n",
       "\n",
       "    .dataframe tbody tr th {\n",
       "        vertical-align: top;\n",
       "    }\n",
       "\n",
       "    .dataframe thead th {\n",
       "        text-align: right;\n",
       "    }\n",
       "</style>\n",
       "<table border=\"1\" class=\"dataframe\">\n",
       "  <thead>\n",
       "    <tr style=\"text-align: right;\">\n",
       "      <th></th>\n",
       "      <th>goods_producing</th>\n",
       "      <th>service_providing</th>\n",
       "    </tr>\n",
       "  </thead>\n",
       "  <tbody>\n",
       "    <tr>\n",
       "      <th>0</th>\n",
       "      <td>22467</td>\n",
       "      <td>112983</td>\n",
       "    </tr>\n",
       "    <tr>\n",
       "      <th>1</th>\n",
       "      <td>22535</td>\n",
       "      <td>113227</td>\n",
       "    </tr>\n",
       "  </tbody>\n",
       "</table>\n",
       "</div>"
      ],
      "text/plain": [
       "   goods_producing  service_providing\n",
       "0            22467             112983\n",
       "1            22535             113227"
      ]
     },
     "execution_count": 60,
     "metadata": {},
     "output_type": "execute_result"
    }
   ],
   "source": [
    "# index columns with lioc: like indexing a 2d array with integer values\n",
    "# note that extreme values of intervals are included !\n",
    "df.iloc[0:2,3:5]\n"
   ]
  },
  {
   "cell_type": "markdown",
   "metadata": {},
   "source": [
    "### Combining, reshaping dataframes"
   ]
  },
  {
   "cell_type": "code",
   "execution_count": 4,
   "metadata": {},
   "outputs": [],
   "source": [
    "import pandas as pd\n",
    "import numpy as np"
   ]
  },
  {
   "cell_type": "code",
   "execution_count": 5,
   "metadata": {
    "collapsed": true
   },
   "outputs": [],
   "source": [
    "df = pd.DataFrame({ 'A' : ['one', 'one', 'two', 'three'] * 3,\n",
    "                    'B' : ['A', 'B', 'C'] * 4,\n",
    "                    'C' : ['foo', 'foo', 'foo', 'bar', 'bar', 'bar'] * 2,\n",
    "                    'D' : np.random.randn(12),\n",
    "                    'E' : np.random.randn(12)})"
   ]
  },
  {
   "cell_type": "code",
   "execution_count": 6,
   "metadata": {
    "collapsed": false
   },
   "outputs": [
    {
     "data": {
      "text/html": [
       "<div>\n",
       "<style scoped>\n",
       "    .dataframe tbody tr th:only-of-type {\n",
       "        vertical-align: middle;\n",
       "    }\n",
       "\n",
       "    .dataframe tbody tr th {\n",
       "        vertical-align: top;\n",
       "    }\n",
       "\n",
       "    .dataframe thead th {\n",
       "        text-align: right;\n",
       "    }\n",
       "</style>\n",
       "<table border=\"1\" class=\"dataframe\">\n",
       "  <thead>\n",
       "    <tr style=\"text-align: right;\">\n",
       "      <th></th>\n",
       "      <th>A</th>\n",
       "      <th>B</th>\n",
       "      <th>C</th>\n",
       "      <th>D</th>\n",
       "      <th>E</th>\n",
       "    </tr>\n",
       "  </thead>\n",
       "  <tbody>\n",
       "    <tr>\n",
       "      <th>0</th>\n",
       "      <td>one</td>\n",
       "      <td>A</td>\n",
       "      <td>foo</td>\n",
       "      <td>-0.479112</td>\n",
       "      <td>0.230533</td>\n",
       "    </tr>\n",
       "    <tr>\n",
       "      <th>1</th>\n",
       "      <td>one</td>\n",
       "      <td>B</td>\n",
       "      <td>foo</td>\n",
       "      <td>1.645694</td>\n",
       "      <td>-1.706140</td>\n",
       "    </tr>\n",
       "    <tr>\n",
       "      <th>2</th>\n",
       "      <td>two</td>\n",
       "      <td>C</td>\n",
       "      <td>foo</td>\n",
       "      <td>-0.086042</td>\n",
       "      <td>1.314556</td>\n",
       "    </tr>\n",
       "    <tr>\n",
       "      <th>3</th>\n",
       "      <td>three</td>\n",
       "      <td>A</td>\n",
       "      <td>bar</td>\n",
       "      <td>0.843359</td>\n",
       "      <td>-0.136195</td>\n",
       "    </tr>\n",
       "    <tr>\n",
       "      <th>4</th>\n",
       "      <td>one</td>\n",
       "      <td>B</td>\n",
       "      <td>bar</td>\n",
       "      <td>0.191390</td>\n",
       "      <td>-0.116995</td>\n",
       "    </tr>\n",
       "    <tr>\n",
       "      <th>5</th>\n",
       "      <td>one</td>\n",
       "      <td>C</td>\n",
       "      <td>bar</td>\n",
       "      <td>-0.563126</td>\n",
       "      <td>-0.084229</td>\n",
       "    </tr>\n",
       "    <tr>\n",
       "      <th>6</th>\n",
       "      <td>two</td>\n",
       "      <td>A</td>\n",
       "      <td>foo</td>\n",
       "      <td>-2.139900</td>\n",
       "      <td>0.993571</td>\n",
       "    </tr>\n",
       "    <tr>\n",
       "      <th>7</th>\n",
       "      <td>three</td>\n",
       "      <td>B</td>\n",
       "      <td>foo</td>\n",
       "      <td>-0.309535</td>\n",
       "      <td>-1.110011</td>\n",
       "    </tr>\n",
       "    <tr>\n",
       "      <th>8</th>\n",
       "      <td>one</td>\n",
       "      <td>C</td>\n",
       "      <td>foo</td>\n",
       "      <td>-0.568572</td>\n",
       "      <td>-1.416767</td>\n",
       "    </tr>\n",
       "    <tr>\n",
       "      <th>9</th>\n",
       "      <td>one</td>\n",
       "      <td>A</td>\n",
       "      <td>bar</td>\n",
       "      <td>-0.376776</td>\n",
       "      <td>1.757021</td>\n",
       "    </tr>\n",
       "    <tr>\n",
       "      <th>10</th>\n",
       "      <td>two</td>\n",
       "      <td>B</td>\n",
       "      <td>bar</td>\n",
       "      <td>1.021299</td>\n",
       "      <td>-0.267805</td>\n",
       "    </tr>\n",
       "    <tr>\n",
       "      <th>11</th>\n",
       "      <td>three</td>\n",
       "      <td>C</td>\n",
       "      <td>bar</td>\n",
       "      <td>1.626399</td>\n",
       "      <td>-1.017574</td>\n",
       "    </tr>\n",
       "  </tbody>\n",
       "</table>\n",
       "</div>"
      ],
      "text/plain": [
       "        A  B    C         D         E\n",
       "0     one  A  foo -0.479112  0.230533\n",
       "1     one  B  foo  1.645694 -1.706140\n",
       "2     two  C  foo -0.086042  1.314556\n",
       "3   three  A  bar  0.843359 -0.136195\n",
       "4     one  B  bar  0.191390 -0.116995\n",
       "5     one  C  bar -0.563126 -0.084229\n",
       "6     two  A  foo -2.139900  0.993571\n",
       "7   three  B  foo -0.309535 -1.110011\n",
       "8     one  C  foo -0.568572 -1.416767\n",
       "9     one  A  bar -0.376776  1.757021\n",
       "10    two  B  bar  1.021299 -0.267805\n",
       "11  three  C  bar  1.626399 -1.017574"
      ]
     },
     "execution_count": 6,
     "metadata": {},
     "output_type": "execute_result"
    }
   ],
   "source": [
    "df"
   ]
  },
  {
   "cell_type": "code",
   "execution_count": 15,
   "metadata": {
    "collapsed": false
   },
   "outputs": [
    {
     "data": {
      "text/html": [
       "<div>\n",
       "<style scoped>\n",
       "    .dataframe tbody tr th:only-of-type {\n",
       "        vertical-align: middle;\n",
       "    }\n",
       "\n",
       "    .dataframe tbody tr th {\n",
       "        vertical-align: top;\n",
       "    }\n",
       "\n",
       "    .dataframe thead th {\n",
       "        text-align: right;\n",
       "    }\n",
       "</style>\n",
       "<table border=\"1\" class=\"dataframe\">\n",
       "  <thead>\n",
       "    <tr style=\"text-align: right;\">\n",
       "      <th></th>\n",
       "      <th>C</th>\n",
       "      <th>bar</th>\n",
       "      <th>foo</th>\n",
       "    </tr>\n",
       "    <tr>\n",
       "      <th>A</th>\n",
       "      <th>B</th>\n",
       "      <th></th>\n",
       "      <th></th>\n",
       "    </tr>\n",
       "  </thead>\n",
       "  <tbody>\n",
       "    <tr>\n",
       "      <th rowspan=\"3\" valign=\"top\">one</th>\n",
       "      <th>A</th>\n",
       "      <td>-0.376776</td>\n",
       "      <td>-0.479112</td>\n",
       "    </tr>\n",
       "    <tr>\n",
       "      <th>B</th>\n",
       "      <td>0.191390</td>\n",
       "      <td>1.645694</td>\n",
       "    </tr>\n",
       "    <tr>\n",
       "      <th>C</th>\n",
       "      <td>-0.563126</td>\n",
       "      <td>-0.568572</td>\n",
       "    </tr>\n",
       "    <tr>\n",
       "      <th rowspan=\"3\" valign=\"top\">three</th>\n",
       "      <th>A</th>\n",
       "      <td>0.843359</td>\n",
       "      <td>NaN</td>\n",
       "    </tr>\n",
       "    <tr>\n",
       "      <th>B</th>\n",
       "      <td>NaN</td>\n",
       "      <td>-0.309535</td>\n",
       "    </tr>\n",
       "    <tr>\n",
       "      <th>C</th>\n",
       "      <td>1.626399</td>\n",
       "      <td>NaN</td>\n",
       "    </tr>\n",
       "    <tr>\n",
       "      <th rowspan=\"3\" valign=\"top\">two</th>\n",
       "      <th>A</th>\n",
       "      <td>NaN</td>\n",
       "      <td>-2.139900</td>\n",
       "    </tr>\n",
       "    <tr>\n",
       "      <th>B</th>\n",
       "      <td>1.021299</td>\n",
       "      <td>NaN</td>\n",
       "    </tr>\n",
       "    <tr>\n",
       "      <th>C</th>\n",
       "      <td>NaN</td>\n",
       "      <td>-0.086042</td>\n",
       "    </tr>\n",
       "  </tbody>\n",
       "</table>\n",
       "</div>"
      ],
      "text/plain": [
       "C             bar       foo\n",
       "A     B                    \n",
       "one   A -0.376776 -0.479112\n",
       "      B  0.191390  1.645694\n",
       "      C -0.563126 -0.568572\n",
       "three A  0.843359       NaN\n",
       "      B       NaN -0.309535\n",
       "      C  1.626399       NaN\n",
       "two   A       NaN -2.139900\n",
       "      B  1.021299       NaN\n",
       "      C       NaN -0.086042"
      ]
     },
     "execution_count": 15,
     "metadata": {},
     "output_type": "execute_result"
    }
   ],
   "source": [
    "pt = pd.pivot_table(df, values='D', index=['A', 'B'], columns=['C'])\n",
    "pt"
   ]
  },
  {
   "cell_type": "code",
   "execution_count": 16,
   "metadata": {},
   "outputs": [
    {
     "data": {
      "text/html": [
       "<div>\n",
       "<style scoped>\n",
       "    .dataframe tbody tr th:only-of-type {\n",
       "        vertical-align: middle;\n",
       "    }\n",
       "\n",
       "    .dataframe tbody tr th {\n",
       "        vertical-align: top;\n",
       "    }\n",
       "\n",
       "    .dataframe thead th {\n",
       "        text-align: right;\n",
       "    }\n",
       "</style>\n",
       "<table border=\"1\" class=\"dataframe\">\n",
       "  <thead>\n",
       "    <tr style=\"text-align: right;\">\n",
       "      <th>C</th>\n",
       "      <th>A</th>\n",
       "      <th>B</th>\n",
       "      <th>bar</th>\n",
       "      <th>foo</th>\n",
       "    </tr>\n",
       "  </thead>\n",
       "  <tbody>\n",
       "    <tr>\n",
       "      <th>0</th>\n",
       "      <td>one</td>\n",
       "      <td>A</td>\n",
       "      <td>-0.376776</td>\n",
       "      <td>-0.479112</td>\n",
       "    </tr>\n",
       "    <tr>\n",
       "      <th>1</th>\n",
       "      <td>one</td>\n",
       "      <td>B</td>\n",
       "      <td>0.191390</td>\n",
       "      <td>1.645694</td>\n",
       "    </tr>\n",
       "    <tr>\n",
       "      <th>2</th>\n",
       "      <td>one</td>\n",
       "      <td>C</td>\n",
       "      <td>-0.563126</td>\n",
       "      <td>-0.568572</td>\n",
       "    </tr>\n",
       "    <tr>\n",
       "      <th>3</th>\n",
       "      <td>three</td>\n",
       "      <td>A</td>\n",
       "      <td>0.843359</td>\n",
       "      <td>NaN</td>\n",
       "    </tr>\n",
       "    <tr>\n",
       "      <th>4</th>\n",
       "      <td>three</td>\n",
       "      <td>B</td>\n",
       "      <td>NaN</td>\n",
       "      <td>-0.309535</td>\n",
       "    </tr>\n",
       "    <tr>\n",
       "      <th>5</th>\n",
       "      <td>three</td>\n",
       "      <td>C</td>\n",
       "      <td>1.626399</td>\n",
       "      <td>NaN</td>\n",
       "    </tr>\n",
       "    <tr>\n",
       "      <th>6</th>\n",
       "      <td>two</td>\n",
       "      <td>A</td>\n",
       "      <td>NaN</td>\n",
       "      <td>-2.139900</td>\n",
       "    </tr>\n",
       "    <tr>\n",
       "      <th>7</th>\n",
       "      <td>two</td>\n",
       "      <td>B</td>\n",
       "      <td>1.021299</td>\n",
       "      <td>NaN</td>\n",
       "    </tr>\n",
       "    <tr>\n",
       "      <th>8</th>\n",
       "      <td>two</td>\n",
       "      <td>C</td>\n",
       "      <td>NaN</td>\n",
       "      <td>-0.086042</td>\n",
       "    </tr>\n",
       "  </tbody>\n",
       "</table>\n",
       "</div>"
      ],
      "text/plain": [
       "C      A  B       bar       foo\n",
       "0    one  A -0.376776 -0.479112\n",
       "1    one  B  0.191390  1.645694\n",
       "2    one  C -0.563126 -0.568572\n",
       "3  three  A  0.843359       NaN\n",
       "4  three  B       NaN -0.309535\n",
       "5  three  C  1.626399       NaN\n",
       "6    two  A       NaN -2.139900\n",
       "7    two  B  1.021299       NaN\n",
       "8    two  C       NaN -0.086042"
      ]
     },
     "execution_count": 16,
     "metadata": {},
     "output_type": "execute_result"
    }
   ],
   "source": [
    "# note that the result has special hierarchical indices (multindex)\n",
    "# to get rid of them: .reset_index\n",
    "pt.reset_index()"
   ]
  },
  {
   "cell_type": "markdown",
   "metadata": {},
   "source": [
    "**Using MultiIndex to reorganize the information in a DataFrame**"
   ]
  },
  {
   "cell_type": "code",
   "execution_count": 5,
   "metadata": {
    "collapsed": false
   },
   "outputs": [],
   "source": [
    "dfi = df.set_index(['A','B','C'])"
   ]
  },
  {
   "cell_type": "code",
   "execution_count": 6,
   "metadata": {
    "collapsed": false
   },
   "outputs": [
    {
     "data": {
      "text/html": [
       "<div>\n",
       "<style scoped>\n",
       "    .dataframe tbody tr th:only-of-type {\n",
       "        vertical-align: middle;\n",
       "    }\n",
       "\n",
       "    .dataframe tbody tr th {\n",
       "        vertical-align: top;\n",
       "    }\n",
       "\n",
       "    .dataframe thead th {\n",
       "        text-align: right;\n",
       "    }\n",
       "</style>\n",
       "<table border=\"1\" class=\"dataframe\">\n",
       "  <thead>\n",
       "    <tr style=\"text-align: right;\">\n",
       "      <th></th>\n",
       "      <th></th>\n",
       "      <th></th>\n",
       "      <th>D</th>\n",
       "      <th>E</th>\n",
       "    </tr>\n",
       "    <tr>\n",
       "      <th>A</th>\n",
       "      <th>B</th>\n",
       "      <th>C</th>\n",
       "      <th></th>\n",
       "      <th></th>\n",
       "    </tr>\n",
       "  </thead>\n",
       "  <tbody>\n",
       "    <tr>\n",
       "      <th rowspan=\"2\" valign=\"top\">one</th>\n",
       "      <th>A</th>\n",
       "      <th>foo</th>\n",
       "      <td>0.042490</td>\n",
       "      <td>-0.043692</td>\n",
       "    </tr>\n",
       "    <tr>\n",
       "      <th>B</th>\n",
       "      <th>foo</th>\n",
       "      <td>-0.120333</td>\n",
       "      <td>-0.281835</td>\n",
       "    </tr>\n",
       "    <tr>\n",
       "      <th>two</th>\n",
       "      <th>C</th>\n",
       "      <th>foo</th>\n",
       "      <td>0.175495</td>\n",
       "      <td>0.580749</td>\n",
       "    </tr>\n",
       "    <tr>\n",
       "      <th>three</th>\n",
       "      <th>A</th>\n",
       "      <th>bar</th>\n",
       "      <td>0.039859</td>\n",
       "      <td>-0.541817</td>\n",
       "    </tr>\n",
       "    <tr>\n",
       "      <th rowspan=\"2\" valign=\"top\">one</th>\n",
       "      <th>B</th>\n",
       "      <th>bar</th>\n",
       "      <td>-1.208724</td>\n",
       "      <td>0.182690</td>\n",
       "    </tr>\n",
       "    <tr>\n",
       "      <th>C</th>\n",
       "      <th>bar</th>\n",
       "      <td>0.225546</td>\n",
       "      <td>-1.200098</td>\n",
       "    </tr>\n",
       "    <tr>\n",
       "      <th>two</th>\n",
       "      <th>A</th>\n",
       "      <th>foo</th>\n",
       "      <td>-0.068632</td>\n",
       "      <td>1.329266</td>\n",
       "    </tr>\n",
       "    <tr>\n",
       "      <th>three</th>\n",
       "      <th>B</th>\n",
       "      <th>foo</th>\n",
       "      <td>1.978199</td>\n",
       "      <td>-0.750169</td>\n",
       "    </tr>\n",
       "    <tr>\n",
       "      <th rowspan=\"2\" valign=\"top\">one</th>\n",
       "      <th>C</th>\n",
       "      <th>foo</th>\n",
       "      <td>-0.709990</td>\n",
       "      <td>0.745212</td>\n",
       "    </tr>\n",
       "    <tr>\n",
       "      <th>A</th>\n",
       "      <th>bar</th>\n",
       "      <td>0.328635</td>\n",
       "      <td>-2.024948</td>\n",
       "    </tr>\n",
       "    <tr>\n",
       "      <th>two</th>\n",
       "      <th>B</th>\n",
       "      <th>bar</th>\n",
       "      <td>-1.273351</td>\n",
       "      <td>-0.495985</td>\n",
       "    </tr>\n",
       "    <tr>\n",
       "      <th>three</th>\n",
       "      <th>C</th>\n",
       "      <th>bar</th>\n",
       "      <td>0.828350</td>\n",
       "      <td>-0.785491</td>\n",
       "    </tr>\n",
       "  </tbody>\n",
       "</table>\n",
       "</div>"
      ],
      "text/plain": [
       "                    D         E\n",
       "A     B C                      \n",
       "one   A foo  0.042490 -0.043692\n",
       "      B foo -0.120333 -0.281835\n",
       "two   C foo  0.175495  0.580749\n",
       "three A bar  0.039859 -0.541817\n",
       "one   B bar -1.208724  0.182690\n",
       "      C bar  0.225546 -1.200098\n",
       "two   A foo -0.068632  1.329266\n",
       "three B foo  1.978199 -0.750169\n",
       "one   C foo -0.709990  0.745212\n",
       "      A bar  0.328635 -2.024948\n",
       "two   B bar -1.273351 -0.495985\n",
       "three C bar  0.828350 -0.785491"
      ]
     },
     "execution_count": 6,
     "metadata": {},
     "output_type": "execute_result"
    }
   ],
   "source": [
    "dfi"
   ]
  },
  {
   "cell_type": "code",
   "execution_count": 71,
   "metadata": {
    "collapsed": false
   },
   "outputs": [
    {
     "data": {
      "text/html": [
       "<div>\n",
       "<table border=\"1\" class=\"dataframe\">\n",
       "  <thead>\n",
       "    <tr>\n",
       "      <th></th>\n",
       "      <th></th>\n",
       "      <th colspan=\"2\" halign=\"left\">D</th>\n",
       "      <th colspan=\"2\" halign=\"left\">E</th>\n",
       "    </tr>\n",
       "    <tr>\n",
       "      <th></th>\n",
       "      <th>C</th>\n",
       "      <th>bar</th>\n",
       "      <th>foo</th>\n",
       "      <th>bar</th>\n",
       "      <th>foo</th>\n",
       "    </tr>\n",
       "    <tr>\n",
       "      <th>A</th>\n",
       "      <th>B</th>\n",
       "      <th></th>\n",
       "      <th></th>\n",
       "      <th></th>\n",
       "      <th></th>\n",
       "    </tr>\n",
       "  </thead>\n",
       "  <tbody>\n",
       "    <tr>\n",
       "      <th rowspan=\"3\" valign=\"top\">one</th>\n",
       "      <th>A</th>\n",
       "      <td>-1.139532</td>\n",
       "      <td>-1.147829</td>\n",
       "      <td>0.092835</td>\n",
       "      <td>1.808482</td>\n",
       "    </tr>\n",
       "    <tr>\n",
       "      <th>B</th>\n",
       "      <td>0.284371</td>\n",
       "      <td>0.367665</td>\n",
       "      <td>-0.052488</td>\n",
       "      <td>1.262942</td>\n",
       "    </tr>\n",
       "    <tr>\n",
       "      <th>C</th>\n",
       "      <td>-1.905237</td>\n",
       "      <td>0.074089</td>\n",
       "      <td>0.068501</td>\n",
       "      <td>1.597474</td>\n",
       "    </tr>\n",
       "    <tr>\n",
       "      <th rowspan=\"3\" valign=\"top\">three</th>\n",
       "      <th>A</th>\n",
       "      <td>0.569115</td>\n",
       "      <td>NaN</td>\n",
       "      <td>-0.355622</td>\n",
       "      <td>NaN</td>\n",
       "    </tr>\n",
       "    <tr>\n",
       "      <th>B</th>\n",
       "      <td>NaN</td>\n",
       "      <td>-0.746973</td>\n",
       "      <td>NaN</td>\n",
       "      <td>-0.796331</td>\n",
       "    </tr>\n",
       "    <tr>\n",
       "      <th>C</th>\n",
       "      <td>0.612354</td>\n",
       "      <td>NaN</td>\n",
       "      <td>-0.824024</td>\n",
       "      <td>NaN</td>\n",
       "    </tr>\n",
       "    <tr>\n",
       "      <th rowspan=\"3\" valign=\"top\">two</th>\n",
       "      <th>A</th>\n",
       "      <td>NaN</td>\n",
       "      <td>1.363116</td>\n",
       "      <td>NaN</td>\n",
       "      <td>-2.470829</td>\n",
       "    </tr>\n",
       "    <tr>\n",
       "      <th>B</th>\n",
       "      <td>1.120662</td>\n",
       "      <td>NaN</td>\n",
       "      <td>0.202382</td>\n",
       "      <td>NaN</td>\n",
       "    </tr>\n",
       "    <tr>\n",
       "      <th>C</th>\n",
       "      <td>NaN</td>\n",
       "      <td>1.412131</td>\n",
       "      <td>NaN</td>\n",
       "      <td>0.532147</td>\n",
       "    </tr>\n",
       "  </tbody>\n",
       "</table>\n",
       "</div>"
      ],
      "text/plain": [
       "                D                   E          \n",
       "C             bar       foo       bar       foo\n",
       "A     B                                        \n",
       "one   A -1.139532 -1.147829  0.092835  1.808482\n",
       "      B  0.284371  0.367665 -0.052488  1.262942\n",
       "      C -1.905237  0.074089  0.068501  1.597474\n",
       "three A  0.569115       NaN -0.355622       NaN\n",
       "      B       NaN -0.746973       NaN -0.796331\n",
       "      C  0.612354       NaN -0.824024       NaN\n",
       "two   A       NaN  1.363116       NaN -2.470829\n",
       "      B  1.120662       NaN  0.202382       NaN\n",
       "      C       NaN  1.412131       NaN  0.532147"
      ]
     },
     "execution_count": 71,
     "metadata": {},
     "output_type": "execute_result"
    }
   ],
   "source": [
    "dfi.unstack(level='C')"
   ]
  },
  {
   "cell_type": "code",
   "execution_count": 72,
   "metadata": {
    "collapsed": false
   },
   "outputs": [
    {
     "data": {
      "text/html": [
       "<div>\n",
       "<table border=\"1\" class=\"dataframe\">\n",
       "  <thead>\n",
       "    <tr style=\"text-align: right;\">\n",
       "      <th></th>\n",
       "      <th>C</th>\n",
       "      <th>bar</th>\n",
       "      <th>foo</th>\n",
       "    </tr>\n",
       "    <tr>\n",
       "      <th>A</th>\n",
       "      <th>B</th>\n",
       "      <th></th>\n",
       "      <th></th>\n",
       "    </tr>\n",
       "  </thead>\n",
       "  <tbody>\n",
       "    <tr>\n",
       "      <th rowspan=\"3\" valign=\"top\">one</th>\n",
       "      <th>A</th>\n",
       "      <td>-1.139532</td>\n",
       "      <td>-1.147829</td>\n",
       "    </tr>\n",
       "    <tr>\n",
       "      <th>B</th>\n",
       "      <td>0.284371</td>\n",
       "      <td>0.367665</td>\n",
       "    </tr>\n",
       "    <tr>\n",
       "      <th>C</th>\n",
       "      <td>-1.905237</td>\n",
       "      <td>0.074089</td>\n",
       "    </tr>\n",
       "    <tr>\n",
       "      <th rowspan=\"3\" valign=\"top\">three</th>\n",
       "      <th>A</th>\n",
       "      <td>0.569115</td>\n",
       "      <td>NaN</td>\n",
       "    </tr>\n",
       "    <tr>\n",
       "      <th>B</th>\n",
       "      <td>NaN</td>\n",
       "      <td>-0.746973</td>\n",
       "    </tr>\n",
       "    <tr>\n",
       "      <th>C</th>\n",
       "      <td>0.612354</td>\n",
       "      <td>NaN</td>\n",
       "    </tr>\n",
       "    <tr>\n",
       "      <th rowspan=\"3\" valign=\"top\">two</th>\n",
       "      <th>A</th>\n",
       "      <td>NaN</td>\n",
       "      <td>1.363116</td>\n",
       "    </tr>\n",
       "    <tr>\n",
       "      <th>B</th>\n",
       "      <td>1.120662</td>\n",
       "      <td>NaN</td>\n",
       "    </tr>\n",
       "    <tr>\n",
       "      <th>C</th>\n",
       "      <td>NaN</td>\n",
       "      <td>1.412131</td>\n",
       "    </tr>\n",
       "  </tbody>\n",
       "</table>\n",
       "</div>"
      ],
      "text/plain": [
       "C             bar       foo\n",
       "A     B                    \n",
       "one   A -1.139532 -1.147829\n",
       "      B  0.284371  0.367665\n",
       "      C -1.905237  0.074089\n",
       "three A  0.569115       NaN\n",
       "      B       NaN -0.746973\n",
       "      C  0.612354       NaN\n",
       "two   A       NaN  1.363116\n",
       "      B  1.120662       NaN\n",
       "      C       NaN  1.412131"
      ]
     },
     "execution_count": 72,
     "metadata": {},
     "output_type": "execute_result"
    }
   ],
   "source": [
    "dfi['D'].unstack(level='C')         #Same as the pivot table result"
   ]
  },
  {
   "cell_type": "markdown",
   "metadata": {},
   "source": [
    "### Visualization\n",
    "\n",
    "There are many options to visualize dataframe including:\n",
    "- pandas plotting methods\n",
    "- indexing+matplotlib\n",
    "- altair"
   ]
  },
  {
   "cell_type": "markdown",
   "metadata": {},
   "source": [
    "#### Altair\n",
    "\n",
    "Altair is a python wrapper to the vega-lite language, which itself is an extension of grammar-of-graphics to allow for interactions."
   ]
  },
  {
   "cell_type": "code",
   "execution_count": null,
   "metadata": {},
   "outputs": [],
   "source": []
  }
 ],
 "metadata": {
  "kernelspec": {
   "display_name": "Python 3",
   "language": "python",
   "name": "python3"
  },
  "language_info": {
   "codemirror_mode": {
    "name": "ipython",
    "version": 3
   },
   "file_extension": ".py",
   "mimetype": "text/x-python",
   "name": "python",
   "nbconvert_exporter": "python",
   "pygments_lexer": "ipython3",
   "version": "3.6.8"
  }
 },
 "nbformat": 4,
 "nbformat_minor": 2
}
